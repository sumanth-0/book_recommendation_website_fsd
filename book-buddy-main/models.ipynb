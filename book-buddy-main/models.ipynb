{
 "cells": [
  {
   "attachments": {},
   "cell_type": "markdown",
   "metadata": {},
   "source": [
    "# Book Recommendation Model"
   ]
  },
  {
   "cell_type": "code",
   "execution_count": 1,
   "metadata": {},
   "outputs": [],
   "source": [
    "import pandas as pd\n",
    "import numpy as np\n",
    "import matplotlib.pyplot as plt\n",
    "import seaborn as sns\n",
    "from collections import *\n",
    "import pickle"
   ]
  },
  {
   "cell_type": "code",
   "execution_count": 2,
   "metadata": {},
   "outputs": [
    {
     "name": "stderr",
     "output_type": "stream",
     "text": [
      "C:\\Users\\athar\\AppData\\Local\\Temp\\ipykernel_25452\\2630924146.py:3: DtypeWarning: Columns (4) have mixed types. Specify dtype option on import or set low_memory=False.\n",
      "  books = pd.read_csv('books.csv')\n"
     ]
    }
   ],
   "source": [
    "# Importing the dataset\n",
    "\n",
    "books = pd.read_csv('books.csv')\n",
    "ratings = pd.read_csv('ratings.csv')\n",
    "users = pd.read_csv('users.csv')\n",
    "\n",
    "books.drop(['Unnamed: 0'], axis=1, inplace=True)\n",
    "ratings.drop(['Unnamed: 0'], axis=1, inplace=True)\n",
    "users.drop(['Unnamed: 0'], axis=1, inplace=True)\n",
    "\n",
    "books.dropna(inplace=True)"
   ]
  },
  {
   "attachments": {},
   "cell_type": "markdown",
   "metadata": {},
   "source": [
    "## Models"
   ]
  },
  {
   "attachments": {},
   "cell_type": "markdown",
   "metadata": {},
   "source": [
    "### Popularity Based Approach\n",
    "\n",
    "```The formula for calculating the Top Rated 250 Titles gives a true Bayesian estimate:\n",
    "\n",
    "weighted rating (WR) = (v ÷ (v+m)) × R + (m ÷ (v+m)) × C\n",
    "where:\n",
    "\n",
    "R = average for the movie (mean)\n",
    "v = number of votes for the movie\n",
    "m = minimum votes required to be listed in the Top 250 \n",
    "C = the mean vote across the whole report ```"
   ]
  },
  {
   "cell_type": "code",
   "execution_count": 3,
   "metadata": {},
   "outputs": [],
   "source": [
    "# removing all the books whose ISBN is not 10 digits long\n",
    "\n",
    "books = books[books[\"ISBN\"].apply(lambda x: len(x) == 10)]\n",
    "\n",
    "unique_ISBN = set(books[\"ISBN\"].unique())\n",
    "\n",
    "# removing all the ISBNs that are not in the books dataset\n",
    "\n",
    "ratings = ratings[ratings[\"ISBN\"].isin(unique_ISBN)]\n",
    "\n",
    "# removing all the users who rated 0 to books\n",
    "\n",
    "ratings = ratings[ratings[\"bookRating\"] != 0]\n"
   ]
  },
  {
   "cell_type": "code",
   "execution_count": 4,
   "metadata": {},
   "outputs": [
    {
     "data": {
      "text/html": [
       "<div>\n",
       "<style scoped>\n",
       "    .dataframe tbody tr th:only-of-type {\n",
       "        vertical-align: middle;\n",
       "    }\n",
       "\n",
       "    .dataframe tbody tr th {\n",
       "        vertical-align: top;\n",
       "    }\n",
       "\n",
       "    .dataframe thead th {\n",
       "        text-align: right;\n",
       "    }\n",
       "</style>\n",
       "<table border=\"1\" class=\"dataframe\">\n",
       "  <thead>\n",
       "    <tr style=\"text-align: right;\">\n",
       "      <th></th>\n",
       "      <th>index</th>\n",
       "      <th>ISBN</th>\n",
       "      <th>avg_rating</th>\n",
       "      <th>num_ratings</th>\n",
       "    </tr>\n",
       "  </thead>\n",
       "  <tbody>\n",
       "    <tr>\n",
       "      <th>21945</th>\n",
       "      <td>21945</td>\n",
       "      <td>0316666343</td>\n",
       "      <td>8.185290</td>\n",
       "      <td>707</td>\n",
       "    </tr>\n",
       "    <tr>\n",
       "      <th>117742</th>\n",
       "      <td>117742</td>\n",
       "      <td>0971880107</td>\n",
       "      <td>4.390706</td>\n",
       "      <td>581</td>\n",
       "    </tr>\n",
       "    <tr>\n",
       "      <th>38819</th>\n",
       "      <td>38819</td>\n",
       "      <td>0385504209</td>\n",
       "      <td>8.435318</td>\n",
       "      <td>487</td>\n",
       "    </tr>\n",
       "    <tr>\n",
       "      <th>18058</th>\n",
       "      <td>18058</td>\n",
       "      <td>0312195516</td>\n",
       "      <td>8.182768</td>\n",
       "      <td>383</td>\n",
       "    </tr>\n",
       "    <tr>\n",
       "      <th>4131</th>\n",
       "      <td>4131</td>\n",
       "      <td>0060928336</td>\n",
       "      <td>7.887500</td>\n",
       "      <td>320</td>\n",
       "    </tr>\n",
       "    <tr>\n",
       "      <th>...</th>\n",
       "      <td>...</td>\n",
       "      <td>...</td>\n",
       "      <td>...</td>\n",
       "      <td>...</td>\n",
       "    </tr>\n",
       "    <tr>\n",
       "      <th>63115</th>\n",
       "      <td>63115</td>\n",
       "      <td>0553100130</td>\n",
       "      <td>8.000000</td>\n",
       "      <td>1</td>\n",
       "    </tr>\n",
       "    <tr>\n",
       "      <th>63109</th>\n",
       "      <td>63109</td>\n",
       "      <td>0553099817</td>\n",
       "      <td>8.000000</td>\n",
       "      <td>1</td>\n",
       "    </tr>\n",
       "    <tr>\n",
       "      <th>63108</th>\n",
       "      <td>63108</td>\n",
       "      <td>0553099809</td>\n",
       "      <td>7.000000</td>\n",
       "      <td>1</td>\n",
       "    </tr>\n",
       "    <tr>\n",
       "      <th>63106</th>\n",
       "      <td>63106</td>\n",
       "      <td>0553099744</td>\n",
       "      <td>3.000000</td>\n",
       "      <td>1</td>\n",
       "    </tr>\n",
       "    <tr>\n",
       "      <th>149828</th>\n",
       "      <td>149828</td>\n",
       "      <td>B000234N3A</td>\n",
       "      <td>9.000000</td>\n",
       "      <td>1</td>\n",
       "    </tr>\n",
       "  </tbody>\n",
       "</table>\n",
       "<p>149829 rows × 4 columns</p>\n",
       "</div>"
      ],
      "text/plain": [
       "         index        ISBN  avg_rating  num_ratings\n",
       "21945    21945  0316666343    8.185290          707\n",
       "117742  117742  0971880107    4.390706          581\n",
       "38819    38819  0385504209    8.435318          487\n",
       "18058    18058  0312195516    8.182768          383\n",
       "4131      4131  0060928336    7.887500          320\n",
       "...        ...         ...         ...          ...\n",
       "63115    63115  0553100130    8.000000            1\n",
       "63109    63109  0553099817    8.000000            1\n",
       "63108    63108  0553099809    7.000000            1\n",
       "63106    63106  0553099744    3.000000            1\n",
       "149828  149828  B000234N3A    9.000000            1\n",
       "\n",
       "[149829 rows x 4 columns]"
      ]
     },
     "execution_count": 4,
     "metadata": {},
     "output_type": "execute_result"
    }
   ],
   "source": [
    "# makeing a dataframe which stores the avg rating of a book and also the number of ratings it has got\n",
    "\n",
    "avg_rating = pd.DataFrame()\n",
    "avg_rating[\"ISBN\"] = ratings.groupby(\"ISBN\")[\"bookRating\"].mean().index\n",
    "avg_rating[\"avg_rating\"] = ratings.groupby(\"ISBN\")[\"bookRating\"].mean().values\n",
    "avg_rating[\"num_ratings\"] = ratings.groupby(\"ISBN\")[\"bookRating\"].count().values\n",
    "\n",
    "avg_rating.reset_index(inplace=True)\n",
    "\n",
    "\n",
    "avg_rating.sort_values(\"num_ratings\", ascending=False)\n",
    "# sum(avg_rating[\"num_ratings\"])\n"
   ]
  },
  {
   "cell_type": "code",
   "execution_count": 5,
   "metadata": {},
   "outputs": [],
   "source": [
    "# weighted rating (WR) = (v ÷ (v+m)) × R + (m ÷ (v+m)) × C\n",
    "# where:\n",
    "\n",
    "# R = average for the movie (mean)\n",
    "# v = number of votes for the movie\n",
    "# m = minimum votes required to be listed in the Top 250 \n",
    "# C = the mean vote across the whole report\n",
    "\n",
    "m = avg_rating[\"num_ratings\"].quantile(0.99) # top 150 books\n",
    "C = ratings[\"bookRating\"].mean()\n",
    "\n",
    "def weighted_rating(x, m = m, C=C):\n",
    "    v = x[\"num_ratings\"]\n",
    "    R = x[\"avg_rating\"]\n",
    "    return (v/(v+m) * R) + (m/(m+v) * C)\n",
    "\n",
    "\n",
    "avg_rating[\"weighted_rating\"] = avg_rating.apply(weighted_rating, axis=1)\n"
   ]
  },
  {
   "cell_type": "code",
   "execution_count": 6,
   "metadata": {},
   "outputs": [],
   "source": [
    "avg_rating.sort_values(\"weighted_rating\", ascending=False,inplace=True)\n",
    "avg_rating.drop([\"index\"], axis=1, inplace=True)"
   ]
  },
  {
   "cell_type": "code",
   "execution_count": 7,
   "metadata": {},
   "outputs": [
    {
     "data": {
      "text/html": [
       "<div>\n",
       "<style scoped>\n",
       "    .dataframe tbody tr th:only-of-type {\n",
       "        vertical-align: middle;\n",
       "    }\n",
       "\n",
       "    .dataframe tbody tr th {\n",
       "        vertical-align: top;\n",
       "    }\n",
       "\n",
       "    .dataframe thead th {\n",
       "        text-align: right;\n",
       "    }\n",
       "</style>\n",
       "<table border=\"1\" class=\"dataframe\">\n",
       "  <thead>\n",
       "    <tr style=\"text-align: right;\">\n",
       "      <th></th>\n",
       "      <th>ISBN</th>\n",
       "      <th>avg_rating</th>\n",
       "      <th>num_ratings</th>\n",
       "      <th>weighted_rating</th>\n",
       "    </tr>\n",
       "  </thead>\n",
       "  <tbody>\n",
       "    <tr>\n",
       "      <th>46134</th>\n",
       "      <td>0439139597</td>\n",
       "      <td>9.262774</td>\n",
       "      <td>137</td>\n",
       "      <td>9.018884</td>\n",
       "    </tr>\n",
       "    <tr>\n",
       "      <th>24538</th>\n",
       "      <td>0345339738</td>\n",
       "      <td>9.402597</td>\n",
       "      <td>77</td>\n",
       "      <td>8.980597</td>\n",
       "    </tr>\n",
       "    <tr>\n",
       "      <th>46424</th>\n",
       "      <td>043935806X</td>\n",
       "      <td>9.033981</td>\n",
       "      <td>206</td>\n",
       "      <td>8.887132</td>\n",
       "    </tr>\n",
       "    <tr>\n",
       "      <th>46124</th>\n",
       "      <td>0439136369</td>\n",
       "      <td>9.082707</td>\n",
       "      <td>133</td>\n",
       "      <td>8.860129</td>\n",
       "    </tr>\n",
       "    <tr>\n",
       "      <th>68897</th>\n",
       "      <td>059035342X</td>\n",
       "      <td>8.939297</td>\n",
       "      <td>313</td>\n",
       "      <td>8.845817</td>\n",
       "    </tr>\n",
       "    <tr>\n",
       "      <th>46123</th>\n",
       "      <td>0439136350</td>\n",
       "      <td>9.035461</td>\n",
       "      <td>141</td>\n",
       "      <td>8.830547</td>\n",
       "    </tr>\n",
       "    <tr>\n",
       "      <th>50044</th>\n",
       "      <td>0446310786</td>\n",
       "      <td>8.943925</td>\n",
       "      <td>214</td>\n",
       "      <td>8.811094</td>\n",
       "    </tr>\n",
       "    <tr>\n",
       "      <th>24537</th>\n",
       "      <td>0345339711</td>\n",
       "      <td>9.120482</td>\n",
       "      <td>83</td>\n",
       "      <td>8.785423</td>\n",
       "    </tr>\n",
       "    <tr>\n",
       "      <th>68896</th>\n",
       "      <td>0590353403</td>\n",
       "      <td>8.983193</td>\n",
       "      <td>119</td>\n",
       "      <td>8.755526</td>\n",
       "    </tr>\n",
       "    <tr>\n",
       "      <th>46489</th>\n",
       "      <td>0439425220</td>\n",
       "      <td>9.869565</td>\n",
       "      <td>23</td>\n",
       "      <td>8.724261</td>\n",
       "    </tr>\n",
       "  </tbody>\n",
       "</table>\n",
       "</div>"
      ],
      "text/plain": [
       "             ISBN  avg_rating  num_ratings  weighted_rating\n",
       "46134  0439139597    9.262774          137         9.018884\n",
       "24538  0345339738    9.402597           77         8.980597\n",
       "46424  043935806X    9.033981          206         8.887132\n",
       "46124  0439136369    9.082707          133         8.860129\n",
       "68897  059035342X    8.939297          313         8.845817\n",
       "46123  0439136350    9.035461          141         8.830547\n",
       "50044  0446310786    8.943925          214         8.811094\n",
       "24537  0345339711    9.120482           83         8.785423\n",
       "68896  0590353403    8.983193          119         8.755526\n",
       "46489  0439425220    9.869565           23         8.724261"
      ]
     },
     "execution_count": 7,
     "metadata": {},
     "output_type": "execute_result"
    }
   ],
   "source": [
    "avg_rating.head(10)"
   ]
  },
  {
   "cell_type": "code",
   "execution_count": 8,
   "metadata": {},
   "outputs": [],
   "source": [
    "avg_rating.to_csv(\"avg_rating.csv\", index=False)"
   ]
  },
  {
   "attachments": {},
   "cell_type": "markdown",
   "metadata": {},
   "source": [
    "#### book covers of top rated books according to the model"
   ]
  },
  {
   "cell_type": "code",
   "execution_count": 9,
   "metadata": {},
   "outputs": [],
   "source": [
    "l = avg_rating.sort_values(\"weighted_rating\", ascending=False).head(10)[\"ISBN\"].values"
   ]
  },
  {
   "cell_type": "code",
   "execution_count": 10,
   "metadata": {},
   "outputs": [
    {
     "data": {
      "text/html": [
       "<img src=\"http://images.amazon.com/images/P/0439139597.01.MZZZZZZZ.jpg\"/>"
      ],
      "text/plain": [
       "<IPython.core.display.Image object>"
      ]
     },
     "metadata": {},
     "output_type": "display_data"
    },
    {
     "name": "stdout",
     "output_type": "stream",
     "text": [
      "Harry Potter and the Goblet of Fire (Book 4)\n"
     ]
    },
    {
     "data": {
      "text/html": [
       "<img src=\"http://images.amazon.com/images/P/0345339738.01.MZZZZZZZ.jpg\"/>"
      ],
      "text/plain": [
       "<IPython.core.display.Image object>"
      ]
     },
     "metadata": {},
     "output_type": "display_data"
    },
    {
     "name": "stdout",
     "output_type": "stream",
     "text": [
      "The Return of the King (The Lord of the Rings, Part 3)\n"
     ]
    },
    {
     "data": {
      "text/html": [
       "<img src=\"http://images.amazon.com/images/P/043935806X.01.MZZZZZZZ.jpg\"/>"
      ],
      "text/plain": [
       "<IPython.core.display.Image object>"
      ]
     },
     "metadata": {},
     "output_type": "display_data"
    },
    {
     "name": "stdout",
     "output_type": "stream",
     "text": [
      "Harry Potter and the Order of the Phoenix (Book 5)\n"
     ]
    },
    {
     "data": {
      "text/html": [
       "<img src=\"http://images.amazon.com/images/P/0439136369.01.MZZZZZZZ.jpg\"/>"
      ],
      "text/plain": [
       "<IPython.core.display.Image object>"
      ]
     },
     "metadata": {},
     "output_type": "display_data"
    },
    {
     "name": "stdout",
     "output_type": "stream",
     "text": [
      "Harry Potter and the Prisoner of Azkaban (Book 3)\n"
     ]
    },
    {
     "data": {
      "text/html": [
       "<img src=\"http://images.amazon.com/images/P/059035342X.01.MZZZZZZZ.jpg\"/>"
      ],
      "text/plain": [
       "<IPython.core.display.Image object>"
      ]
     },
     "metadata": {},
     "output_type": "display_data"
    },
    {
     "name": "stdout",
     "output_type": "stream",
     "text": [
      "Harry Potter and the Sorcerer's Stone (Harry Potter (Paperback))\n"
     ]
    },
    {
     "data": {
      "text/html": [
       "<img src=\"http://images.amazon.com/images/P/0439136350.01.MZZZZZZZ.jpg\"/>"
      ],
      "text/plain": [
       "<IPython.core.display.Image object>"
      ]
     },
     "metadata": {},
     "output_type": "display_data"
    },
    {
     "name": "stdout",
     "output_type": "stream",
     "text": [
      "Harry Potter and the Prisoner of Azkaban (Book 3)\n"
     ]
    },
    {
     "data": {
      "text/html": [
       "<img src=\"http://images.amazon.com/images/P/0446310786.01.MZZZZZZZ.jpg\"/>"
      ],
      "text/plain": [
       "<IPython.core.display.Image object>"
      ]
     },
     "metadata": {},
     "output_type": "display_data"
    },
    {
     "name": "stdout",
     "output_type": "stream",
     "text": [
      "To Kill a Mockingbird\n"
     ]
    },
    {
     "data": {
      "text/html": [
       "<img src=\"http://images.amazon.com/images/P/0345339711.01.MZZZZZZZ.jpg\"/>"
      ],
      "text/plain": [
       "<IPython.core.display.Image object>"
      ]
     },
     "metadata": {},
     "output_type": "display_data"
    },
    {
     "name": "stdout",
     "output_type": "stream",
     "text": [
      "The Two Towers (The Lord of the Rings, Part 2)\n"
     ]
    },
    {
     "data": {
      "text/html": [
       "<img src=\"http://images.amazon.com/images/P/0590353403.01.MZZZZZZZ.jpg\"/>"
      ],
      "text/plain": [
       "<IPython.core.display.Image object>"
      ]
     },
     "metadata": {},
     "output_type": "display_data"
    },
    {
     "name": "stdout",
     "output_type": "stream",
     "text": [
      "Harry Potter and the Sorcerer's Stone (Book 1)\n"
     ]
    },
    {
     "data": {
      "text/html": [
       "<img src=\"http://images.amazon.com/images/P/0439425220.01.MZZZZZZZ.jpg\"/>"
      ],
      "text/plain": [
       "<IPython.core.display.Image object>"
      ]
     },
     "metadata": {},
     "output_type": "display_data"
    },
    {
     "name": "stdout",
     "output_type": "stream",
     "text": [
      "Harry Potter and the Chamber of Secrets Postcard Book\n"
     ]
    }
   ],
   "source": [
    "#show image of the book cover\n",
    "\n",
    "from IPython.display import Image\n",
    "\n",
    "for i in l:\n",
    "    display(Image(url=books[books[\"ISBN\"] == i][\"imageUrlM\"].values[0]))\n",
    "    print(books[books[\"ISBN\"] == i][\"bookTitle\"].values[0])"
   ]
  },
  {
   "attachments": {},
   "cell_type": "markdown",
   "metadata": {},
   "source": [
    "### Collaborative Filtering\n",
    "\n",
    "```A recommendation technique that leverages the collective behavior and preferences of users to make personalized recommendations.```\n",
    "\n",
    "Steps involved in collaborative filtering:\n",
    "\n",
    "1. Data representation: Create a table with users as rows and items (ISBNs) as columns to capture user-item interactions or ratings.\n",
    "\n",
    "2. Standardization: Normalize the ratings within each user to remove biases and bring them to a common scale.\n",
    "\n",
    "3. Similarity calculation: Compute item-item similarity using metrics like cosine similarity based on user ratings or interactions.\n",
    "\n",
    "4. Recommendation generation: Find the most similar items to a given item and recommend them to users who have interacted with the original item.\n",
    "\n",
    "```Collaborative filtering taps into the idea that users with similar tastes for certain items are likely to have similar tastes for other items, providing personalized recommendations based on user behavior and preferences.```\n"
   ]
  },
  {
   "cell_type": "code",
   "execution_count": 11,
   "metadata": {},
   "outputs": [],
   "source": [
    "# list of top 600 books according to no. of people who rated it\n",
    "\n",
    "top_600 = avg_rating.sort_values(\"num_ratings\", ascending=False).head(600)[\"ISBN\"].values"
   ]
  },
  {
   "cell_type": "code",
   "execution_count": 12,
   "metadata": {},
   "outputs": [],
   "source": [
    "top_600 = set(top_600)\n",
    "\n",
    "# removing all the books that are not in the top 600\n",
    "\n",
    "new_ratings = ratings[ratings[\"ISBN\"].isin(top_600)]"
   ]
  },
  {
   "attachments": {},
   "cell_type": "markdown",
   "metadata": {},
   "source": [
    "#### for the sake of less complexity, we are taking 600 books "
   ]
  },
  {
   "cell_type": "code",
   "execution_count": 13,
   "metadata": {},
   "outputs": [],
   "source": [
    "# make a dataframe in which the index is ISBN and the columns are the userIDs and the values are the ratings given by the user\n",
    "\n",
    "new_ratings = new_ratings.pivot(index=\"userID\", columns=\"ISBN\", values=\"bookRating\")"
   ]
  },
  {
   "cell_type": "code",
   "execution_count": 14,
   "metadata": {},
   "outputs": [],
   "source": [
    "new_ratings.fillna(0, inplace=True)"
   ]
  },
  {
   "cell_type": "code",
   "execution_count": 15,
   "metadata": {},
   "outputs": [
    {
     "data": {
      "text/html": [
       "<div>\n",
       "<style scoped>\n",
       "    .dataframe tbody tr th:only-of-type {\n",
       "        vertical-align: middle;\n",
       "    }\n",
       "\n",
       "    .dataframe tbody tr th {\n",
       "        vertical-align: top;\n",
       "    }\n",
       "\n",
       "    .dataframe thead th {\n",
       "        text-align: right;\n",
       "    }\n",
       "</style>\n",
       "<table border=\"1\" class=\"dataframe\">\n",
       "  <thead>\n",
       "    <tr style=\"text-align: right;\">\n",
       "      <th>ISBN</th>\n",
       "      <th>002542730X</th>\n",
       "      <th>0060096195</th>\n",
       "      <th>006016848X</th>\n",
       "      <th>0060173289</th>\n",
       "      <th>0060175400</th>\n",
       "      <th>0060188731</th>\n",
       "      <th>0060199652</th>\n",
       "      <th>0060391626</th>\n",
       "      <th>0060392452</th>\n",
       "      <th>0060502258</th>\n",
       "      <th>...</th>\n",
       "      <th>1559029838</th>\n",
       "      <th>1573225517</th>\n",
       "      <th>1573225789</th>\n",
       "      <th>1573227331</th>\n",
       "      <th>1573229326</th>\n",
       "      <th>1573229571</th>\n",
       "      <th>1576737330</th>\n",
       "      <th>1592400876</th>\n",
       "      <th>1844262553</th>\n",
       "      <th>1878424319</th>\n",
       "    </tr>\n",
       "    <tr>\n",
       "      <th>userID</th>\n",
       "      <th></th>\n",
       "      <th></th>\n",
       "      <th></th>\n",
       "      <th></th>\n",
       "      <th></th>\n",
       "      <th></th>\n",
       "      <th></th>\n",
       "      <th></th>\n",
       "      <th></th>\n",
       "      <th></th>\n",
       "      <th></th>\n",
       "      <th></th>\n",
       "      <th></th>\n",
       "      <th></th>\n",
       "      <th></th>\n",
       "      <th></th>\n",
       "      <th></th>\n",
       "      <th></th>\n",
       "      <th></th>\n",
       "      <th></th>\n",
       "      <th></th>\n",
       "    </tr>\n",
       "  </thead>\n",
       "  <tbody>\n",
       "    <tr>\n",
       "      <th>9</th>\n",
       "      <td>0.0</td>\n",
       "      <td>0.0</td>\n",
       "      <td>0.0</td>\n",
       "      <td>0.0</td>\n",
       "      <td>0.0</td>\n",
       "      <td>0.0</td>\n",
       "      <td>0.0</td>\n",
       "      <td>0.0</td>\n",
       "      <td>0.0</td>\n",
       "      <td>0.0</td>\n",
       "      <td>...</td>\n",
       "      <td>0.0</td>\n",
       "      <td>0.0</td>\n",
       "      <td>0.0</td>\n",
       "      <td>0.0</td>\n",
       "      <td>0.0</td>\n",
       "      <td>0.0</td>\n",
       "      <td>0.0</td>\n",
       "      <td>0.0</td>\n",
       "      <td>0.0</td>\n",
       "      <td>0.0</td>\n",
       "    </tr>\n",
       "    <tr>\n",
       "      <th>16</th>\n",
       "      <td>0.0</td>\n",
       "      <td>0.0</td>\n",
       "      <td>0.0</td>\n",
       "      <td>0.0</td>\n",
       "      <td>0.0</td>\n",
       "      <td>0.0</td>\n",
       "      <td>0.0</td>\n",
       "      <td>0.0</td>\n",
       "      <td>0.0</td>\n",
       "      <td>0.0</td>\n",
       "      <td>...</td>\n",
       "      <td>0.0</td>\n",
       "      <td>0.0</td>\n",
       "      <td>0.0</td>\n",
       "      <td>0.0</td>\n",
       "      <td>0.0</td>\n",
       "      <td>0.0</td>\n",
       "      <td>0.0</td>\n",
       "      <td>0.0</td>\n",
       "      <td>0.0</td>\n",
       "      <td>0.0</td>\n",
       "    </tr>\n",
       "    <tr>\n",
       "      <th>26</th>\n",
       "      <td>0.0</td>\n",
       "      <td>0.0</td>\n",
       "      <td>0.0</td>\n",
       "      <td>0.0</td>\n",
       "      <td>0.0</td>\n",
       "      <td>0.0</td>\n",
       "      <td>0.0</td>\n",
       "      <td>0.0</td>\n",
       "      <td>0.0</td>\n",
       "      <td>0.0</td>\n",
       "      <td>...</td>\n",
       "      <td>0.0</td>\n",
       "      <td>0.0</td>\n",
       "      <td>0.0</td>\n",
       "      <td>0.0</td>\n",
       "      <td>0.0</td>\n",
       "      <td>0.0</td>\n",
       "      <td>0.0</td>\n",
       "      <td>0.0</td>\n",
       "      <td>0.0</td>\n",
       "      <td>0.0</td>\n",
       "    </tr>\n",
       "    <tr>\n",
       "      <th>42</th>\n",
       "      <td>0.0</td>\n",
       "      <td>0.0</td>\n",
       "      <td>0.0</td>\n",
       "      <td>0.0</td>\n",
       "      <td>0.0</td>\n",
       "      <td>0.0</td>\n",
       "      <td>0.0</td>\n",
       "      <td>0.0</td>\n",
       "      <td>0.0</td>\n",
       "      <td>0.0</td>\n",
       "      <td>...</td>\n",
       "      <td>0.0</td>\n",
       "      <td>0.0</td>\n",
       "      <td>0.0</td>\n",
       "      <td>0.0</td>\n",
       "      <td>0.0</td>\n",
       "      <td>0.0</td>\n",
       "      <td>0.0</td>\n",
       "      <td>0.0</td>\n",
       "      <td>0.0</td>\n",
       "      <td>0.0</td>\n",
       "    </tr>\n",
       "    <tr>\n",
       "      <th>51</th>\n",
       "      <td>0.0</td>\n",
       "      <td>0.0</td>\n",
       "      <td>0.0</td>\n",
       "      <td>0.0</td>\n",
       "      <td>0.0</td>\n",
       "      <td>0.0</td>\n",
       "      <td>0.0</td>\n",
       "      <td>0.0</td>\n",
       "      <td>0.0</td>\n",
       "      <td>0.0</td>\n",
       "      <td>...</td>\n",
       "      <td>0.0</td>\n",
       "      <td>0.0</td>\n",
       "      <td>0.0</td>\n",
       "      <td>0.0</td>\n",
       "      <td>0.0</td>\n",
       "      <td>0.0</td>\n",
       "      <td>0.0</td>\n",
       "      <td>0.0</td>\n",
       "      <td>0.0</td>\n",
       "      <td>0.0</td>\n",
       "    </tr>\n",
       "  </tbody>\n",
       "</table>\n",
       "<p>5 rows × 600 columns</p>\n",
       "</div>"
      ],
      "text/plain": [
       "ISBN    002542730X  0060096195  006016848X  0060173289  0060175400  \\\n",
       "userID                                                               \n",
       "9              0.0         0.0         0.0         0.0         0.0   \n",
       "16             0.0         0.0         0.0         0.0         0.0   \n",
       "26             0.0         0.0         0.0         0.0         0.0   \n",
       "42             0.0         0.0         0.0         0.0         0.0   \n",
       "51             0.0         0.0         0.0         0.0         0.0   \n",
       "\n",
       "ISBN    0060188731  0060199652  0060391626  0060392452  0060502258  ...  \\\n",
       "userID                                                              ...   \n",
       "9              0.0         0.0         0.0         0.0         0.0  ...   \n",
       "16             0.0         0.0         0.0         0.0         0.0  ...   \n",
       "26             0.0         0.0         0.0         0.0         0.0  ...   \n",
       "42             0.0         0.0         0.0         0.0         0.0  ...   \n",
       "51             0.0         0.0         0.0         0.0         0.0  ...   \n",
       "\n",
       "ISBN    1559029838  1573225517  1573225789  1573227331  1573229326  \\\n",
       "userID                                                               \n",
       "9              0.0         0.0         0.0         0.0         0.0   \n",
       "16             0.0         0.0         0.0         0.0         0.0   \n",
       "26             0.0         0.0         0.0         0.0         0.0   \n",
       "42             0.0         0.0         0.0         0.0         0.0   \n",
       "51             0.0         0.0         0.0         0.0         0.0   \n",
       "\n",
       "ISBN    1573229571  1576737330  1592400876  1844262553  1878424319  \n",
       "userID                                                              \n",
       "9              0.0         0.0         0.0         0.0         0.0  \n",
       "16             0.0         0.0         0.0         0.0         0.0  \n",
       "26             0.0         0.0         0.0         0.0         0.0  \n",
       "42             0.0         0.0         0.0         0.0         0.0  \n",
       "51             0.0         0.0         0.0         0.0         0.0  \n",
       "\n",
       "[5 rows x 600 columns]"
      ]
     },
     "execution_count": 15,
     "metadata": {},
     "output_type": "execute_result"
    }
   ],
   "source": [
    "new_ratings.head()"
   ]
  },
  {
   "cell_type": "code",
   "execution_count": 16,
   "metadata": {},
   "outputs": [],
   "source": [
    "# standardizing the ratings so that the mean of each row is 0 and the values are between -1 and 1\n",
    "\n",
    "def standardize(row):\n",
    "    new_row = (row - row.mean())/(row.max() - row.min())\n",
    "    return new_row\n",
    "\n",
    "new_ratings = new_ratings.apply(standardize)"
   ]
  },
  {
   "cell_type": "code",
   "execution_count": 17,
   "metadata": {},
   "outputs": [
    {
     "data": {
      "text/html": [
       "<div>\n",
       "<style scoped>\n",
       "    .dataframe tbody tr th:only-of-type {\n",
       "        vertical-align: middle;\n",
       "    }\n",
       "\n",
       "    .dataframe tbody tr th {\n",
       "        vertical-align: top;\n",
       "    }\n",
       "\n",
       "    .dataframe thead th {\n",
       "        text-align: right;\n",
       "    }\n",
       "</style>\n",
       "<table border=\"1\" class=\"dataframe\">\n",
       "  <thead>\n",
       "    <tr style=\"text-align: right;\">\n",
       "      <th>ISBN</th>\n",
       "      <th>002542730X</th>\n",
       "      <th>0060096195</th>\n",
       "      <th>006016848X</th>\n",
       "      <th>0060173289</th>\n",
       "      <th>0060175400</th>\n",
       "      <th>0060188731</th>\n",
       "      <th>0060199652</th>\n",
       "      <th>0060391626</th>\n",
       "      <th>0060392452</th>\n",
       "      <th>0060502258</th>\n",
       "      <th>...</th>\n",
       "      <th>1559029838</th>\n",
       "      <th>1573225517</th>\n",
       "      <th>1573225789</th>\n",
       "      <th>1573227331</th>\n",
       "      <th>1573229326</th>\n",
       "      <th>1573229571</th>\n",
       "      <th>1576737330</th>\n",
       "      <th>1592400876</th>\n",
       "      <th>1844262553</th>\n",
       "      <th>1878424319</th>\n",
       "    </tr>\n",
       "    <tr>\n",
       "      <th>userID</th>\n",
       "      <th></th>\n",
       "      <th></th>\n",
       "      <th></th>\n",
       "      <th></th>\n",
       "      <th></th>\n",
       "      <th></th>\n",
       "      <th></th>\n",
       "      <th></th>\n",
       "      <th></th>\n",
       "      <th></th>\n",
       "      <th></th>\n",
       "      <th></th>\n",
       "      <th></th>\n",
       "      <th></th>\n",
       "      <th></th>\n",
       "      <th></th>\n",
       "      <th></th>\n",
       "      <th></th>\n",
       "      <th></th>\n",
       "      <th></th>\n",
       "      <th></th>\n",
       "    </tr>\n",
       "  </thead>\n",
       "  <tbody>\n",
       "    <tr>\n",
       "      <th>9</th>\n",
       "      <td>-0.002776</td>\n",
       "      <td>-0.001991</td>\n",
       "      <td>-0.001829</td>\n",
       "      <td>-0.002074</td>\n",
       "      <td>-0.003021</td>\n",
       "      <td>-0.001645</td>\n",
       "      <td>-0.002291</td>\n",
       "      <td>-0.002896</td>\n",
       "      <td>-0.005696</td>\n",
       "      <td>-0.005959</td>\n",
       "      <td>...</td>\n",
       "      <td>-0.001959</td>\n",
       "      <td>-0.002005</td>\n",
       "      <td>-0.003506</td>\n",
       "      <td>-0.001894</td>\n",
       "      <td>-0.003206</td>\n",
       "      <td>-0.002046</td>\n",
       "      <td>-0.001474</td>\n",
       "      <td>-0.002199</td>\n",
       "      <td>-0.001986</td>\n",
       "      <td>-0.002148</td>\n",
       "    </tr>\n",
       "    <tr>\n",
       "      <th>16</th>\n",
       "      <td>-0.002776</td>\n",
       "      <td>-0.001991</td>\n",
       "      <td>-0.001829</td>\n",
       "      <td>-0.002074</td>\n",
       "      <td>-0.003021</td>\n",
       "      <td>-0.001645</td>\n",
       "      <td>-0.002291</td>\n",
       "      <td>-0.002896</td>\n",
       "      <td>-0.005696</td>\n",
       "      <td>-0.005959</td>\n",
       "      <td>...</td>\n",
       "      <td>-0.001959</td>\n",
       "      <td>-0.002005</td>\n",
       "      <td>-0.003506</td>\n",
       "      <td>-0.001894</td>\n",
       "      <td>-0.003206</td>\n",
       "      <td>-0.002046</td>\n",
       "      <td>-0.001474</td>\n",
       "      <td>-0.002199</td>\n",
       "      <td>-0.001986</td>\n",
       "      <td>-0.002148</td>\n",
       "    </tr>\n",
       "    <tr>\n",
       "      <th>26</th>\n",
       "      <td>-0.002776</td>\n",
       "      <td>-0.001991</td>\n",
       "      <td>-0.001829</td>\n",
       "      <td>-0.002074</td>\n",
       "      <td>-0.003021</td>\n",
       "      <td>-0.001645</td>\n",
       "      <td>-0.002291</td>\n",
       "      <td>-0.002896</td>\n",
       "      <td>-0.005696</td>\n",
       "      <td>-0.005959</td>\n",
       "      <td>...</td>\n",
       "      <td>-0.001959</td>\n",
       "      <td>-0.002005</td>\n",
       "      <td>-0.003506</td>\n",
       "      <td>-0.001894</td>\n",
       "      <td>-0.003206</td>\n",
       "      <td>-0.002046</td>\n",
       "      <td>-0.001474</td>\n",
       "      <td>-0.002199</td>\n",
       "      <td>-0.001986</td>\n",
       "      <td>-0.002148</td>\n",
       "    </tr>\n",
       "    <tr>\n",
       "      <th>42</th>\n",
       "      <td>-0.002776</td>\n",
       "      <td>-0.001991</td>\n",
       "      <td>-0.001829</td>\n",
       "      <td>-0.002074</td>\n",
       "      <td>-0.003021</td>\n",
       "      <td>-0.001645</td>\n",
       "      <td>-0.002291</td>\n",
       "      <td>-0.002896</td>\n",
       "      <td>-0.005696</td>\n",
       "      <td>-0.005959</td>\n",
       "      <td>...</td>\n",
       "      <td>-0.001959</td>\n",
       "      <td>-0.002005</td>\n",
       "      <td>-0.003506</td>\n",
       "      <td>-0.001894</td>\n",
       "      <td>-0.003206</td>\n",
       "      <td>-0.002046</td>\n",
       "      <td>-0.001474</td>\n",
       "      <td>-0.002199</td>\n",
       "      <td>-0.001986</td>\n",
       "      <td>-0.002148</td>\n",
       "    </tr>\n",
       "    <tr>\n",
       "      <th>51</th>\n",
       "      <td>-0.002776</td>\n",
       "      <td>-0.001991</td>\n",
       "      <td>-0.001829</td>\n",
       "      <td>-0.002074</td>\n",
       "      <td>-0.003021</td>\n",
       "      <td>-0.001645</td>\n",
       "      <td>-0.002291</td>\n",
       "      <td>-0.002896</td>\n",
       "      <td>-0.005696</td>\n",
       "      <td>-0.005959</td>\n",
       "      <td>...</td>\n",
       "      <td>-0.001959</td>\n",
       "      <td>-0.002005</td>\n",
       "      <td>-0.003506</td>\n",
       "      <td>-0.001894</td>\n",
       "      <td>-0.003206</td>\n",
       "      <td>-0.002046</td>\n",
       "      <td>-0.001474</td>\n",
       "      <td>-0.002199</td>\n",
       "      <td>-0.001986</td>\n",
       "      <td>-0.002148</td>\n",
       "    </tr>\n",
       "    <tr>\n",
       "      <th>...</th>\n",
       "      <td>...</td>\n",
       "      <td>...</td>\n",
       "      <td>...</td>\n",
       "      <td>...</td>\n",
       "      <td>...</td>\n",
       "      <td>...</td>\n",
       "      <td>...</td>\n",
       "      <td>...</td>\n",
       "      <td>...</td>\n",
       "      <td>...</td>\n",
       "      <td>...</td>\n",
       "      <td>...</td>\n",
       "      <td>...</td>\n",
       "      <td>...</td>\n",
       "      <td>...</td>\n",
       "      <td>...</td>\n",
       "      <td>...</td>\n",
       "      <td>...</td>\n",
       "      <td>...</td>\n",
       "      <td>...</td>\n",
       "      <td>...</td>\n",
       "    </tr>\n",
       "    <tr>\n",
       "      <th>278832</th>\n",
       "      <td>-0.002776</td>\n",
       "      <td>-0.001991</td>\n",
       "      <td>-0.001829</td>\n",
       "      <td>-0.002074</td>\n",
       "      <td>-0.003021</td>\n",
       "      <td>-0.001645</td>\n",
       "      <td>-0.002291</td>\n",
       "      <td>-0.002896</td>\n",
       "      <td>-0.005696</td>\n",
       "      <td>-0.005959</td>\n",
       "      <td>...</td>\n",
       "      <td>-0.001959</td>\n",
       "      <td>-0.002005</td>\n",
       "      <td>-0.003506</td>\n",
       "      <td>-0.001894</td>\n",
       "      <td>-0.003206</td>\n",
       "      <td>-0.002046</td>\n",
       "      <td>-0.001474</td>\n",
       "      <td>-0.002199</td>\n",
       "      <td>-0.001986</td>\n",
       "      <td>-0.002148</td>\n",
       "    </tr>\n",
       "    <tr>\n",
       "      <th>278836</th>\n",
       "      <td>-0.002776</td>\n",
       "      <td>-0.001991</td>\n",
       "      <td>-0.001829</td>\n",
       "      <td>-0.002074</td>\n",
       "      <td>-0.003021</td>\n",
       "      <td>-0.001645</td>\n",
       "      <td>-0.002291</td>\n",
       "      <td>-0.002896</td>\n",
       "      <td>-0.005696</td>\n",
       "      <td>-0.005959</td>\n",
       "      <td>...</td>\n",
       "      <td>-0.001959</td>\n",
       "      <td>-0.002005</td>\n",
       "      <td>-0.003506</td>\n",
       "      <td>-0.001894</td>\n",
       "      <td>-0.003206</td>\n",
       "      <td>-0.002046</td>\n",
       "      <td>-0.001474</td>\n",
       "      <td>-0.002199</td>\n",
       "      <td>-0.001986</td>\n",
       "      <td>-0.002148</td>\n",
       "    </tr>\n",
       "    <tr>\n",
       "      <th>278843</th>\n",
       "      <td>-0.002776</td>\n",
       "      <td>-0.001991</td>\n",
       "      <td>-0.001829</td>\n",
       "      <td>0.897926</td>\n",
       "      <td>-0.003021</td>\n",
       "      <td>-0.001645</td>\n",
       "      <td>-0.002291</td>\n",
       "      <td>-0.002896</td>\n",
       "      <td>-0.005696</td>\n",
       "      <td>-0.005959</td>\n",
       "      <td>...</td>\n",
       "      <td>-0.001959</td>\n",
       "      <td>-0.002005</td>\n",
       "      <td>-0.003506</td>\n",
       "      <td>-0.001894</td>\n",
       "      <td>-0.003206</td>\n",
       "      <td>-0.002046</td>\n",
       "      <td>-0.001474</td>\n",
       "      <td>-0.002199</td>\n",
       "      <td>-0.001986</td>\n",
       "      <td>-0.002148</td>\n",
       "    </tr>\n",
       "    <tr>\n",
       "      <th>278844</th>\n",
       "      <td>-0.002776</td>\n",
       "      <td>-0.001991</td>\n",
       "      <td>-0.001829</td>\n",
       "      <td>-0.002074</td>\n",
       "      <td>-0.003021</td>\n",
       "      <td>-0.001645</td>\n",
       "      <td>-0.002291</td>\n",
       "      <td>-0.002896</td>\n",
       "      <td>-0.005696</td>\n",
       "      <td>-0.005959</td>\n",
       "      <td>...</td>\n",
       "      <td>-0.001959</td>\n",
       "      <td>-0.002005</td>\n",
       "      <td>-0.003506</td>\n",
       "      <td>-0.001894</td>\n",
       "      <td>-0.003206</td>\n",
       "      <td>-0.002046</td>\n",
       "      <td>-0.001474</td>\n",
       "      <td>-0.002199</td>\n",
       "      <td>-0.001986</td>\n",
       "      <td>-0.002148</td>\n",
       "    </tr>\n",
       "    <tr>\n",
       "      <th>278854</th>\n",
       "      <td>-0.002776</td>\n",
       "      <td>-0.001991</td>\n",
       "      <td>-0.001829</td>\n",
       "      <td>-0.002074</td>\n",
       "      <td>-0.003021</td>\n",
       "      <td>-0.001645</td>\n",
       "      <td>-0.002291</td>\n",
       "      <td>-0.002896</td>\n",
       "      <td>-0.005696</td>\n",
       "      <td>-0.005959</td>\n",
       "      <td>...</td>\n",
       "      <td>-0.001959</td>\n",
       "      <td>-0.002005</td>\n",
       "      <td>-0.003506</td>\n",
       "      <td>-0.001894</td>\n",
       "      <td>-0.003206</td>\n",
       "      <td>-0.002046</td>\n",
       "      <td>-0.001474</td>\n",
       "      <td>-0.002199</td>\n",
       "      <td>-0.001986</td>\n",
       "      <td>-0.002148</td>\n",
       "    </tr>\n",
       "  </tbody>\n",
       "</table>\n",
       "<p>21647 rows × 600 columns</p>\n",
       "</div>"
      ],
      "text/plain": [
       "ISBN    002542730X  0060096195  006016848X  0060173289  0060175400  \\\n",
       "userID                                                               \n",
       "9        -0.002776   -0.001991   -0.001829   -0.002074   -0.003021   \n",
       "16       -0.002776   -0.001991   -0.001829   -0.002074   -0.003021   \n",
       "26       -0.002776   -0.001991   -0.001829   -0.002074   -0.003021   \n",
       "42       -0.002776   -0.001991   -0.001829   -0.002074   -0.003021   \n",
       "51       -0.002776   -0.001991   -0.001829   -0.002074   -0.003021   \n",
       "...            ...         ...         ...         ...         ...   \n",
       "278832   -0.002776   -0.001991   -0.001829   -0.002074   -0.003021   \n",
       "278836   -0.002776   -0.001991   -0.001829   -0.002074   -0.003021   \n",
       "278843   -0.002776   -0.001991   -0.001829    0.897926   -0.003021   \n",
       "278844   -0.002776   -0.001991   -0.001829   -0.002074   -0.003021   \n",
       "278854   -0.002776   -0.001991   -0.001829   -0.002074   -0.003021   \n",
       "\n",
       "ISBN    0060188731  0060199652  0060391626  0060392452  0060502258  ...  \\\n",
       "userID                                                              ...   \n",
       "9        -0.001645   -0.002291   -0.002896   -0.005696   -0.005959  ...   \n",
       "16       -0.001645   -0.002291   -0.002896   -0.005696   -0.005959  ...   \n",
       "26       -0.001645   -0.002291   -0.002896   -0.005696   -0.005959  ...   \n",
       "42       -0.001645   -0.002291   -0.002896   -0.005696   -0.005959  ...   \n",
       "51       -0.001645   -0.002291   -0.002896   -0.005696   -0.005959  ...   \n",
       "...            ...         ...         ...         ...         ...  ...   \n",
       "278832   -0.001645   -0.002291   -0.002896   -0.005696   -0.005959  ...   \n",
       "278836   -0.001645   -0.002291   -0.002896   -0.005696   -0.005959  ...   \n",
       "278843   -0.001645   -0.002291   -0.002896   -0.005696   -0.005959  ...   \n",
       "278844   -0.001645   -0.002291   -0.002896   -0.005696   -0.005959  ...   \n",
       "278854   -0.001645   -0.002291   -0.002896   -0.005696   -0.005959  ...   \n",
       "\n",
       "ISBN    1559029838  1573225517  1573225789  1573227331  1573229326  \\\n",
       "userID                                                               \n",
       "9        -0.001959   -0.002005   -0.003506   -0.001894   -0.003206   \n",
       "16       -0.001959   -0.002005   -0.003506   -0.001894   -0.003206   \n",
       "26       -0.001959   -0.002005   -0.003506   -0.001894   -0.003206   \n",
       "42       -0.001959   -0.002005   -0.003506   -0.001894   -0.003206   \n",
       "51       -0.001959   -0.002005   -0.003506   -0.001894   -0.003206   \n",
       "...            ...         ...         ...         ...         ...   \n",
       "278832   -0.001959   -0.002005   -0.003506   -0.001894   -0.003206   \n",
       "278836   -0.001959   -0.002005   -0.003506   -0.001894   -0.003206   \n",
       "278843   -0.001959   -0.002005   -0.003506   -0.001894   -0.003206   \n",
       "278844   -0.001959   -0.002005   -0.003506   -0.001894   -0.003206   \n",
       "278854   -0.001959   -0.002005   -0.003506   -0.001894   -0.003206   \n",
       "\n",
       "ISBN    1573229571  1576737330  1592400876  1844262553  1878424319  \n",
       "userID                                                              \n",
       "9        -0.002046   -0.001474   -0.002199   -0.001986   -0.002148  \n",
       "16       -0.002046   -0.001474   -0.002199   -0.001986   -0.002148  \n",
       "26       -0.002046   -0.001474   -0.002199   -0.001986   -0.002148  \n",
       "42       -0.002046   -0.001474   -0.002199   -0.001986   -0.002148  \n",
       "51       -0.002046   -0.001474   -0.002199   -0.001986   -0.002148  \n",
       "...            ...         ...         ...         ...         ...  \n",
       "278832   -0.002046   -0.001474   -0.002199   -0.001986   -0.002148  \n",
       "278836   -0.002046   -0.001474   -0.002199   -0.001986   -0.002148  \n",
       "278843   -0.002046   -0.001474   -0.002199   -0.001986   -0.002148  \n",
       "278844   -0.002046   -0.001474   -0.002199   -0.001986   -0.002148  \n",
       "278854   -0.002046   -0.001474   -0.002199   -0.001986   -0.002148  \n",
       "\n",
       "[21647 rows x 600 columns]"
      ]
     },
     "execution_count": 17,
     "metadata": {},
     "output_type": "execute_result"
    }
   ],
   "source": [
    "new_ratings"
   ]
  },
  {
   "cell_type": "code",
   "execution_count": 18,
   "metadata": {},
   "outputs": [],
   "source": [
    "from sklearn.metrics.pairwise import cosine_similarity\n",
    "# making a matrix in which the index and columns are the ISBNs and the values are the similarity between the two books\n",
    "\n",
    "item_similarity = cosine_similarity(new_ratings.T)  # .T is used to transpose the matrix because we want the similarity between the ISBNs and not the users."
   ]
  },
  {
   "cell_type": "code",
   "execution_count": 19,
   "metadata": {},
   "outputs": [
    {
     "data": {
      "text/html": [
       "<div>\n",
       "<style scoped>\n",
       "    .dataframe tbody tr th:only-of-type {\n",
       "        vertical-align: middle;\n",
       "    }\n",
       "\n",
       "    .dataframe tbody tr th {\n",
       "        vertical-align: top;\n",
       "    }\n",
       "\n",
       "    .dataframe thead th {\n",
       "        text-align: right;\n",
       "    }\n",
       "</style>\n",
       "<table border=\"1\" class=\"dataframe\">\n",
       "  <thead>\n",
       "    <tr style=\"text-align: right;\">\n",
       "      <th>ISBN</th>\n",
       "      <th>002542730X</th>\n",
       "      <th>0060096195</th>\n",
       "      <th>006016848X</th>\n",
       "      <th>0060173289</th>\n",
       "      <th>0060175400</th>\n",
       "      <th>0060188731</th>\n",
       "      <th>0060199652</th>\n",
       "      <th>0060391626</th>\n",
       "      <th>0060392452</th>\n",
       "      <th>0060502258</th>\n",
       "      <th>...</th>\n",
       "      <th>1559029838</th>\n",
       "      <th>1573225517</th>\n",
       "      <th>1573225789</th>\n",
       "      <th>1573227331</th>\n",
       "      <th>1573229326</th>\n",
       "      <th>1573229571</th>\n",
       "      <th>1576737330</th>\n",
       "      <th>1592400876</th>\n",
       "      <th>1844262553</th>\n",
       "      <th>1878424319</th>\n",
       "    </tr>\n",
       "    <tr>\n",
       "      <th>ISBN</th>\n",
       "      <th></th>\n",
       "      <th></th>\n",
       "      <th></th>\n",
       "      <th></th>\n",
       "      <th></th>\n",
       "      <th></th>\n",
       "      <th></th>\n",
       "      <th></th>\n",
       "      <th></th>\n",
       "      <th></th>\n",
       "      <th></th>\n",
       "      <th></th>\n",
       "      <th></th>\n",
       "      <th></th>\n",
       "      <th></th>\n",
       "      <th></th>\n",
       "      <th></th>\n",
       "      <th></th>\n",
       "      <th></th>\n",
       "      <th></th>\n",
       "      <th></th>\n",
       "    </tr>\n",
       "  </thead>\n",
       "  <tbody>\n",
       "    <tr>\n",
       "      <th>002542730X</th>\n",
       "      <td>1.000000</td>\n",
       "      <td>-0.002856</td>\n",
       "      <td>0.011360</td>\n",
       "      <td>-0.002957</td>\n",
       "      <td>0.021552</td>\n",
       "      <td>0.006839</td>\n",
       "      <td>0.010143</td>\n",
       "      <td>0.008240</td>\n",
       "      <td>0.020944</td>\n",
       "      <td>0.009225</td>\n",
       "      <td>...</td>\n",
       "      <td>0.010207</td>\n",
       "      <td>0.026693</td>\n",
       "      <td>0.026751</td>\n",
       "      <td>0.036436</td>\n",
       "      <td>0.034428</td>\n",
       "      <td>0.023493</td>\n",
       "      <td>0.027385</td>\n",
       "      <td>0.023338</td>\n",
       "      <td>0.008378</td>\n",
       "      <td>-0.002976</td>\n",
       "    </tr>\n",
       "    <tr>\n",
       "      <th>0060096195</th>\n",
       "      <td>-0.002856</td>\n",
       "      <td>1.000000</td>\n",
       "      <td>-0.002441</td>\n",
       "      <td>-0.002485</td>\n",
       "      <td>0.013087</td>\n",
       "      <td>-0.002175</td>\n",
       "      <td>-0.002540</td>\n",
       "      <td>-0.002831</td>\n",
       "      <td>0.018060</td>\n",
       "      <td>-0.004196</td>\n",
       "      <td>...</td>\n",
       "      <td>0.038404</td>\n",
       "      <td>-0.002372</td>\n",
       "      <td>0.008079</td>\n",
       "      <td>-0.002411</td>\n",
       "      <td>-0.003304</td>\n",
       "      <td>-0.002436</td>\n",
       "      <td>-0.002143</td>\n",
       "      <td>0.024936</td>\n",
       "      <td>-0.002331</td>\n",
       "      <td>-0.002501</td>\n",
       "    </tr>\n",
       "    <tr>\n",
       "      <th>006016848X</th>\n",
       "      <td>0.011360</td>\n",
       "      <td>-0.002441</td>\n",
       "      <td>1.000000</td>\n",
       "      <td>-0.002527</td>\n",
       "      <td>0.019162</td>\n",
       "      <td>0.016128</td>\n",
       "      <td>0.023030</td>\n",
       "      <td>0.032253</td>\n",
       "      <td>0.018890</td>\n",
       "      <td>0.038760</td>\n",
       "      <td>...</td>\n",
       "      <td>0.022963</td>\n",
       "      <td>-0.002412</td>\n",
       "      <td>0.017499</td>\n",
       "      <td>0.012254</td>\n",
       "      <td>0.013313</td>\n",
       "      <td>0.044284</td>\n",
       "      <td>-0.002179</td>\n",
       "      <td>0.020884</td>\n",
       "      <td>0.019325</td>\n",
       "      <td>0.031241</td>\n",
       "    </tr>\n",
       "    <tr>\n",
       "      <th>0060173289</th>\n",
       "      <td>-0.002957</td>\n",
       "      <td>-0.002485</td>\n",
       "      <td>-0.002527</td>\n",
       "      <td>1.000000</td>\n",
       "      <td>0.052795</td>\n",
       "      <td>-0.002252</td>\n",
       "      <td>0.057423</td>\n",
       "      <td>-0.002931</td>\n",
       "      <td>0.019747</td>\n",
       "      <td>0.023578</td>\n",
       "      <td>...</td>\n",
       "      <td>-0.002476</td>\n",
       "      <td>-0.002456</td>\n",
       "      <td>0.011201</td>\n",
       "      <td>-0.002496</td>\n",
       "      <td>0.004897</td>\n",
       "      <td>0.019434</td>\n",
       "      <td>-0.002218</td>\n",
       "      <td>-0.002561</td>\n",
       "      <td>-0.002413</td>\n",
       "      <td>-0.002589</td>\n",
       "    </tr>\n",
       "    <tr>\n",
       "      <th>0060175400</th>\n",
       "      <td>0.021552</td>\n",
       "      <td>0.013087</td>\n",
       "      <td>0.019162</td>\n",
       "      <td>0.052795</td>\n",
       "      <td>1.000000</td>\n",
       "      <td>0.043631</td>\n",
       "      <td>0.092599</td>\n",
       "      <td>0.014578</td>\n",
       "      <td>0.031770</td>\n",
       "      <td>0.011794</td>\n",
       "      <td>...</td>\n",
       "      <td>0.037567</td>\n",
       "      <td>-0.002855</td>\n",
       "      <td>0.012699</td>\n",
       "      <td>0.008809</td>\n",
       "      <td>0.009300</td>\n",
       "      <td>0.015468</td>\n",
       "      <td>0.028994</td>\n",
       "      <td>0.015656</td>\n",
       "      <td>0.014471</td>\n",
       "      <td>-0.003010</td>\n",
       "    </tr>\n",
       "  </tbody>\n",
       "</table>\n",
       "<p>5 rows × 600 columns</p>\n",
       "</div>"
      ],
      "text/plain": [
       "ISBN        002542730X  0060096195  006016848X  0060173289  0060175400  \\\n",
       "ISBN                                                                     \n",
       "002542730X    1.000000   -0.002856    0.011360   -0.002957    0.021552   \n",
       "0060096195   -0.002856    1.000000   -0.002441   -0.002485    0.013087   \n",
       "006016848X    0.011360   -0.002441    1.000000   -0.002527    0.019162   \n",
       "0060173289   -0.002957   -0.002485   -0.002527    1.000000    0.052795   \n",
       "0060175400    0.021552    0.013087    0.019162    0.052795    1.000000   \n",
       "\n",
       "ISBN        0060188731  0060199652  0060391626  0060392452  0060502258  ...  \\\n",
       "ISBN                                                                    ...   \n",
       "002542730X    0.006839    0.010143    0.008240    0.020944    0.009225  ...   \n",
       "0060096195   -0.002175   -0.002540   -0.002831    0.018060   -0.004196  ...   \n",
       "006016848X    0.016128    0.023030    0.032253    0.018890    0.038760  ...   \n",
       "0060173289   -0.002252    0.057423   -0.002931    0.019747    0.023578  ...   \n",
       "0060175400    0.043631    0.092599    0.014578    0.031770    0.011794  ...   \n",
       "\n",
       "ISBN        1559029838  1573225517  1573225789  1573227331  1573229326  \\\n",
       "ISBN                                                                     \n",
       "002542730X    0.010207    0.026693    0.026751    0.036436    0.034428   \n",
       "0060096195    0.038404   -0.002372    0.008079   -0.002411   -0.003304   \n",
       "006016848X    0.022963   -0.002412    0.017499    0.012254    0.013313   \n",
       "0060173289   -0.002476   -0.002456    0.011201   -0.002496    0.004897   \n",
       "0060175400    0.037567   -0.002855    0.012699    0.008809    0.009300   \n",
       "\n",
       "ISBN        1573229571  1576737330  1592400876  1844262553  1878424319  \n",
       "ISBN                                                                    \n",
       "002542730X    0.023493    0.027385    0.023338    0.008378   -0.002976  \n",
       "0060096195   -0.002436   -0.002143    0.024936   -0.002331   -0.002501  \n",
       "006016848X    0.044284   -0.002179    0.020884    0.019325    0.031241  \n",
       "0060173289    0.019434   -0.002218   -0.002561   -0.002413   -0.002589  \n",
       "0060175400    0.015468    0.028994    0.015656    0.014471   -0.003010  \n",
       "\n",
       "[5 rows x 600 columns]"
      ]
     },
     "execution_count": 19,
     "metadata": {},
     "output_type": "execute_result"
    }
   ],
   "source": [
    "item_similarity_df = pd.DataFrame(item_similarity, index=new_ratings.columns, columns=new_ratings.columns)\n",
    "item_similarity_df.head()"
   ]
  },
  {
   "cell_type": "code",
   "execution_count": 20,
   "metadata": {},
   "outputs": [],
   "source": [
    "def get_similar_books(book_code, user_rating):\n",
    "    similar_score = item_similarity_df[book_code]*(user_rating-5)\n",
    "    similar_score = similar_score.sort_values(ascending=False)\n",
    "    return similar_score\n"
   ]
  },
  {
   "attachments": {},
   "cell_type": "markdown",
   "metadata": {},
   "source": [
    "##### demo"
   ]
  },
  {
   "cell_type": "code",
   "execution_count": 21,
   "metadata": {},
   "outputs": [
    {
     "data": {
      "text/html": [
       "<img src=\"http://images.amazon.com/images/P/059035342X.01.MZZZZZZZ.jpg\"/>"
      ],
      "text/plain": [
       "<IPython.core.display.Image object>"
      ]
     },
     "metadata": {},
     "output_type": "display_data"
    },
    {
     "data": {
      "text/html": [
       "<img src=\"http://images.amazon.com/images/P/059035342X.01.MZZZZZZZ.jpg\"/>"
      ],
      "text/plain": [
       "<IPython.core.display.Image object>"
      ]
     },
     "metadata": {},
     "output_type": "display_data"
    },
    {
     "name": "stdout",
     "output_type": "stream",
     "text": [
      "Harry Potter and the Sorcerer's Stone (Harry Potter (Paperback))\n"
     ]
    },
    {
     "data": {
      "text/html": [
       "<img src=\"http://images.amazon.com/images/P/0439064872.01.MZZZZZZZ.jpg\"/>"
      ],
      "text/plain": [
       "<IPython.core.display.Image object>"
      ]
     },
     "metadata": {},
     "output_type": "display_data"
    },
    {
     "name": "stdout",
     "output_type": "stream",
     "text": [
      "Harry Potter and the Chamber of Secrets (Book 2)\n"
     ]
    },
    {
     "data": {
      "text/html": [
       "<img src=\"http://images.amazon.com/images/P/0439136369.01.MZZZZZZZ.jpg\"/>"
      ],
      "text/plain": [
       "<IPython.core.display.Image object>"
      ]
     },
     "metadata": {},
     "output_type": "display_data"
    },
    {
     "name": "stdout",
     "output_type": "stream",
     "text": [
      "Harry Potter and the Prisoner of Azkaban (Book 3)\n"
     ]
    },
    {
     "data": {
      "text/html": [
       "<img src=\"http://images.amazon.com/images/P/0439139597.01.MZZZZZZZ.jpg\"/>"
      ],
      "text/plain": [
       "<IPython.core.display.Image object>"
      ]
     },
     "metadata": {},
     "output_type": "display_data"
    },
    {
     "name": "stdout",
     "output_type": "stream",
     "text": [
      "Harry Potter and the Goblet of Fire (Book 4)\n"
     ]
    },
    {
     "data": {
      "text/html": [
       "<img src=\"http://images.amazon.com/images/P/0439139600.01.MZZZZZZZ.jpg\"/>"
      ],
      "text/plain": [
       "<IPython.core.display.Image object>"
      ]
     },
     "metadata": {},
     "output_type": "display_data"
    },
    {
     "name": "stdout",
     "output_type": "stream",
     "text": [
      "Harry Potter and the Goblet of Fire (Book 4)\n"
     ]
    },
    {
     "data": {
      "text/html": [
       "<img src=\"http://images.amazon.com/images/P/043935806X.01.MZZZZZZZ.jpg\"/>"
      ],
      "text/plain": [
       "<IPython.core.display.Image object>"
      ]
     },
     "metadata": {},
     "output_type": "display_data"
    },
    {
     "name": "stdout",
     "output_type": "stream",
     "text": [
      "Harry Potter and the Order of the Phoenix (Book 5)\n"
     ]
    },
    {
     "data": {
      "text/html": [
       "<img src=\"http://images.amazon.com/images/P/0439136350.01.MZZZZZZZ.jpg\"/>"
      ],
      "text/plain": [
       "<IPython.core.display.Image object>"
      ]
     },
     "metadata": {},
     "output_type": "display_data"
    },
    {
     "name": "stdout",
     "output_type": "stream",
     "text": [
      "Harry Potter and the Prisoner of Azkaban (Book 3)\n"
     ]
    },
    {
     "data": {
      "text/html": [
       "<img src=\"http://images.amazon.com/images/P/0439064864.01.MZZZZZZZ.jpg\"/>"
      ],
      "text/plain": [
       "<IPython.core.display.Image object>"
      ]
     },
     "metadata": {},
     "output_type": "display_data"
    },
    {
     "name": "stdout",
     "output_type": "stream",
     "text": [
      "Harry Potter and the Chamber of Secrets (Book 2)\n"
     ]
    },
    {
     "data": {
      "text/html": [
       "<img src=\"http://images.amazon.com/images/P/055321313X.01.MZZZZZZZ.jpg\"/>"
      ],
      "text/plain": [
       "<IPython.core.display.Image object>"
      ]
     },
     "metadata": {},
     "output_type": "display_data"
    },
    {
     "name": "stdout",
     "output_type": "stream",
     "text": [
      "Anne of Green Gables (Anne of Green Gables Novels (Paperback))\n"
     ]
    },
    {
     "data": {
      "text/html": [
       "<img src=\"http://images.amazon.com/images/P/0553213148.01.MZZZZZZZ.jpg\"/>"
      ],
      "text/plain": [
       "<IPython.core.display.Image object>"
      ]
     },
     "metadata": {},
     "output_type": "display_data"
    },
    {
     "name": "stdout",
     "output_type": "stream",
     "text": [
      "Anne of Avonlea (Anne of Green Gables Novels (Paperback))\n"
     ]
    }
   ],
   "source": [
    "l = get_similar_books(\"059035342X\", 10).head(10)\n",
    "\n",
    "#showing image of the book cover\n",
    "display(Image(url=books[books[\"ISBN\"] == \"059035342X\"][\"imageUrlM\"].values[0]))\n",
    "for i in l.index:\n",
    "    display(Image(url=books[books[\"ISBN\"] == i][\"imageUrlM\"].values[0]))\n",
    "    print(books[books[\"ISBN\"] == i][\"bookTitle\"].values[0])\n"
   ]
  },
  {
   "attachments": {},
   "cell_type": "markdown",
   "metadata": {},
   "source": [
    "#### for multiple inputs by a user"
   ]
  },
  {
   "cell_type": "code",
   "execution_count": 22,
   "metadata": {},
   "outputs": [],
   "source": [
    "def get_recommendations(book_ratings):\n",
    "    recommendations = pd.Series()  # Empty Series to store the recommendations\n",
    "    \n",
    "    for book, rating in book_ratings.items():\n",
    "        similar_scores = item_similarity_df[book] * (rating - 5)\n",
    "        similar_scores = similar_scores.sort_values(ascending=False)\n",
    "        recommendations = pd.concat([recommendations, similar_scores])\n",
    "        \n",
    "    recommendations = recommendations.groupby(recommendations.index).sum()\n",
    "    recommendations = recommendations.sort_values(ascending=False)\n",
    "    \n",
    "    l = []\n",
    "    for i in recommendations.index:\n",
    "        if i not in book_ratings.keys():\n",
    "            l.append(i)\n",
    "        if len(l)==10:\n",
    "            break\n",
    "\n",
    "    return l\n",
    "\n",
    "\n"
   ]
  },
  {
   "attachments": {},
   "cell_type": "markdown",
   "metadata": {},
   "source": [
    "#### demo"
   ]
  },
  {
   "cell_type": "code",
   "execution_count": 23,
   "metadata": {},
   "outputs": [
    {
     "data": {
      "text/html": [
       "<img src=\"http://images.amazon.com/images/P/059035342X.01.MZZZZZZZ.jpg\"/>"
      ],
      "text/plain": [
       "<IPython.core.display.Image object>"
      ]
     },
     "metadata": {},
     "output_type": "display_data"
    },
    {
     "name": "stdout",
     "output_type": "stream",
     "text": [
      "Harry Potter and the Sorcerer's Stone (Harry Potter (Paperback))\n"
     ]
    },
    {
     "data": {
      "text/html": [
       "<img src=\"http://images.amazon.com/images/P/0345370775.01.MZZZZZZZ.jpg\"/>"
      ],
      "text/plain": [
       "<IPython.core.display.Image object>"
      ]
     },
     "metadata": {},
     "output_type": "display_data"
    },
    {
     "name": "stdout",
     "output_type": "stream",
     "text": [
      "Jurassic Park\n"
     ]
    },
    {
     "data": {
      "text/html": [
       "<img src=\"http://images.amazon.com/images/P/044021145X.01.MZZZZZZZ.jpg\"/>"
      ],
      "text/plain": [
       "<IPython.core.display.Image object>"
      ]
     },
     "metadata": {},
     "output_type": "display_data"
    },
    {
     "name": "stdout",
     "output_type": "stream",
     "text": [
      "The Firm\n"
     ]
    },
    {
     "data": {
      "text/html": [
       "<img src=\"http://images.amazon.com/images/P/0440214041.01.MZZZZZZZ.jpg\"/>"
      ],
      "text/plain": [
       "<IPython.core.display.Image object>"
      ]
     },
     "metadata": {},
     "output_type": "display_data"
    },
    {
     "name": "stdout",
     "output_type": "stream",
     "text": [
      "The Pelican Brief\n"
     ]
    },
    {
     "data": {
      "text/html": [
       "<img src=\"http://images.amazon.com/images/P/0440211727.01.MZZZZZZZ.jpg\"/>"
      ],
      "text/plain": [
       "<IPython.core.display.Image object>"
      ]
     },
     "metadata": {},
     "output_type": "display_data"
    },
    {
     "name": "stdout",
     "output_type": "stream",
     "text": [
      "A Time to Kill\n",
      "-------------------------------------------\n"
     ]
    },
    {
     "data": {
      "text/html": [
       "<img src=\"http://images.amazon.com/images/P/0440213525.01.MZZZZZZZ.jpg\"/>"
      ],
      "text/plain": [
       "<IPython.core.display.Image object>"
      ]
     },
     "metadata": {},
     "output_type": "display_data"
    },
    {
     "name": "stdout",
     "output_type": "stream",
     "text": [
      "The Client\n"
     ]
    },
    {
     "data": {
      "text/html": [
       "<img src=\"http://images.amazon.com/images/P/0439064872.01.MZZZZZZZ.jpg\"/>"
      ],
      "text/plain": [
       "<IPython.core.display.Image object>"
      ]
     },
     "metadata": {},
     "output_type": "display_data"
    },
    {
     "name": "stdout",
     "output_type": "stream",
     "text": [
      "Harry Potter and the Chamber of Secrets (Book 2)\n"
     ]
    },
    {
     "data": {
      "text/html": [
       "<img src=\"http://images.amazon.com/images/P/0312924585.01.MZZZZZZZ.jpg\"/>"
      ],
      "text/plain": [
       "<IPython.core.display.Image object>"
      ]
     },
     "metadata": {},
     "output_type": "display_data"
    },
    {
     "name": "stdout",
     "output_type": "stream",
     "text": [
      "Silence of the Lambs\n"
     ]
    },
    {
     "data": {
      "text/html": [
       "<img src=\"http://images.amazon.com/images/P/0440220602.01.MZZZZZZZ.jpg\"/>"
      ],
      "text/plain": [
       "<IPython.core.display.Image object>"
      ]
     },
     "metadata": {},
     "output_type": "display_data"
    },
    {
     "name": "stdout",
     "output_type": "stream",
     "text": [
      "The Chamber\n"
     ]
    },
    {
     "data": {
      "text/html": [
       "<img src=\"http://images.amazon.com/images/P/044022165X.01.MZZZZZZZ.jpg\"/>"
      ],
      "text/plain": [
       "<IPython.core.display.Image object>"
      ]
     },
     "metadata": {},
     "output_type": "display_data"
    },
    {
     "name": "stdout",
     "output_type": "stream",
     "text": [
      "The Rainmaker\n"
     ]
    },
    {
     "data": {
      "text/html": [
       "<img src=\"http://images.amazon.com/images/P/0380710218.01.MZZZZZZZ.jpg\"/>"
      ],
      "text/plain": [
       "<IPython.core.display.Image object>"
      ]
     },
     "metadata": {},
     "output_type": "display_data"
    },
    {
     "name": "stdout",
     "output_type": "stream",
     "text": [
      "Postmortem\n"
     ]
    },
    {
     "data": {
      "text/html": [
       "<img src=\"http://images.amazon.com/images/P/0439136369.01.MZZZZZZZ.jpg\"/>"
      ],
      "text/plain": [
       "<IPython.core.display.Image object>"
      ]
     },
     "metadata": {},
     "output_type": "display_data"
    },
    {
     "name": "stdout",
     "output_type": "stream",
     "text": [
      "Harry Potter and the Prisoner of Azkaban (Book 3)\n"
     ]
    },
    {
     "data": {
      "text/html": [
       "<img src=\"http://images.amazon.com/images/P/0440221471.01.MZZZZZZZ.jpg\"/>"
      ],
      "text/plain": [
       "<IPython.core.display.Image object>"
      ]
     },
     "metadata": {},
     "output_type": "display_data"
    },
    {
     "name": "stdout",
     "output_type": "stream",
     "text": [
      "The Runaway Jury\n"
     ]
    },
    {
     "data": {
      "text/html": [
       "<img src=\"http://images.amazon.com/images/P/0439139600.01.MZZZZZZZ.jpg\"/>"
      ],
      "text/plain": [
       "<IPython.core.display.Image object>"
      ]
     },
     "metadata": {},
     "output_type": "display_data"
    },
    {
     "name": "stdout",
     "output_type": "stream",
     "text": [
      "Harry Potter and the Goblet of Fire (Book 4)\n"
     ]
    },
    {
     "data": {
      "text/html": [
       "<img src=\"http://images.amazon.com/images/P/034540288X.01.MZZZZZZZ.jpg\"/>"
      ],
      "text/plain": [
       "<IPython.core.display.Image object>"
      ]
     },
     "metadata": {},
     "output_type": "display_data"
    },
    {
     "name": "stdout",
     "output_type": "stream",
     "text": [
      "The Lost World\n"
     ]
    }
   ],
   "source": [
    "d = {\n",
    "    \"059035342X\": 9,\n",
    "    \"0345370775\": 10,\n",
    "    \"044021145X\": 8,\n",
    "    \"0440214041\": 10,\n",
    "    \"0440211727\": 7,\n",
    "}\n",
    "\n",
    "for i in d:\n",
    "    display(Image(url=books[books[\"ISBN\"] == i][\"imageUrlM\"].values[0]))\n",
    "    print(books[books[\"ISBN\"] == i][\"bookTitle\"].values[0])\n",
    "\n",
    "print(\"-------------------------------------------\")\n",
    "l = get_recommendations(d)\n",
    "\n",
    "for i in l:\n",
    "    display(Image(url=books[books[\"ISBN\"] == i][\"imageUrlM\"].values[0]))\n",
    "    print(books[books[\"ISBN\"] == i][\"bookTitle\"].values[0])\n",
    "\n"
   ]
  },
  {
   "cell_type": "code",
   "execution_count": 24,
   "metadata": {},
   "outputs": [],
   "source": [
    "# making a text file in which write the names of 600 books that we have used\n",
    "\n",
    "f = open(\"books.txt\", \"w\")\n",
    "for i in top_600:\n",
    "    name = books[books[\"ISBN\"] == i][\"bookTitle\"].values[0]\n",
    "    f.write(name+\" \"+i)\n",
    "    f.write(\"\\n\")\n",
    "f.close()"
   ]
  },
  {
   "attachments": {},
   "cell_type": "markdown",
   "metadata": {},
   "source": [
    "#### demo on a real user"
   ]
  },
  {
   "cell_type": "code",
   "execution_count": 25,
   "metadata": {},
   "outputs": [
    {
     "data": {
      "text/html": [
       "<img src=\"http://images.amazon.com/images/P/0439139597.01.MZZZZZZZ.jpg\"/>"
      ],
      "text/plain": [
       "<IPython.core.display.Image object>"
      ]
     },
     "metadata": {},
     "output_type": "display_data"
    },
    {
     "name": "stdout",
     "output_type": "stream",
     "text": [
      "Harry Potter and the Goblet of Fire (Book 4)\n"
     ]
    },
    {
     "data": {
      "text/html": [
       "<img src=\"http://images.amazon.com/images/P/0345391802.01.MZZZZZZZ.jpg\"/>"
      ],
      "text/plain": [
       "<IPython.core.display.Image object>"
      ]
     },
     "metadata": {},
     "output_type": "display_data"
    },
    {
     "name": "stdout",
     "output_type": "stream",
     "text": [
      "The Hitchhiker's Guide to the Galaxy\n"
     ]
    },
    {
     "data": {
      "text/html": [
       "<img src=\"http://images.amazon.com/images/P/0590353403.01.MZZZZZZZ.jpg\"/>"
      ],
      "text/plain": [
       "<IPython.core.display.Image object>"
      ]
     },
     "metadata": {},
     "output_type": "display_data"
    },
    {
     "name": "stdout",
     "output_type": "stream",
     "text": [
      "Harry Potter and the Sorcerer's Stone (Book 1)\n"
     ]
    },
    {
     "data": {
      "text/html": [
       "<img src=\"http://images.amazon.com/images/P/0439064864.01.MZZZZZZZ.jpg\"/>"
      ],
      "text/plain": [
       "<IPython.core.display.Image object>"
      ]
     },
     "metadata": {},
     "output_type": "display_data"
    },
    {
     "name": "stdout",
     "output_type": "stream",
     "text": [
      "Harry Potter and the Chamber of Secrets (Book 2)\n"
     ]
    },
    {
     "data": {
      "text/html": [
       "<img src=\"http://images.amazon.com/images/P/0316769487.01.MZZZZZZZ.jpg\"/>"
      ],
      "text/plain": [
       "<IPython.core.display.Image object>"
      ]
     },
     "metadata": {},
     "output_type": "display_data"
    },
    {
     "name": "stdout",
     "output_type": "stream",
     "text": [
      "The Catcher in the Rye\n"
     ]
    },
    {
     "data": {
      "text/html": [
       "<img src=\"http://images.amazon.com/images/P/0439136350.01.MZZZZZZZ.jpg\"/>"
      ],
      "text/plain": [
       "<IPython.core.display.Image object>"
      ]
     },
     "metadata": {},
     "output_type": "display_data"
    },
    {
     "name": "stdout",
     "output_type": "stream",
     "text": [
      "Harry Potter and the Prisoner of Azkaban (Book 3)\n"
     ]
    },
    {
     "data": {
      "text/html": [
       "<img src=\"http://images.amazon.com/images/P/059035342X.01.MZZZZZZZ.jpg\"/>"
      ],
      "text/plain": [
       "<IPython.core.display.Image object>"
      ]
     },
     "metadata": {},
     "output_type": "display_data"
    },
    {
     "name": "stdout",
     "output_type": "stream",
     "text": [
      "Harry Potter and the Sorcerer's Stone (Harry Potter (Paperback))\n"
     ]
    },
    {
     "data": {
      "text/html": [
       "<img src=\"http://images.amazon.com/images/P/0684801523.01.MZZZZZZZ.jpg\"/>"
      ],
      "text/plain": [
       "<IPython.core.display.Image object>"
      ]
     },
     "metadata": {},
     "output_type": "display_data"
    },
    {
     "name": "stdout",
     "output_type": "stream",
     "text": [
      "The Great Gatsby\n"
     ]
    },
    {
     "data": {
      "text/html": [
       "<img src=\"http://images.amazon.com/images/P/0439136369.01.MZZZZZZZ.jpg\"/>"
      ],
      "text/plain": [
       "<IPython.core.display.Image object>"
      ]
     },
     "metadata": {},
     "output_type": "display_data"
    },
    {
     "name": "stdout",
     "output_type": "stream",
     "text": [
      "Harry Potter and the Prisoner of Azkaban (Book 3)\n"
     ]
    },
    {
     "data": {
      "text/html": [
       "<img src=\"http://images.amazon.com/images/P/043935806X.01.MZZZZZZZ.jpg\"/>"
      ],
      "text/plain": [
       "<IPython.core.display.Image object>"
      ]
     },
     "metadata": {},
     "output_type": "display_data"
    },
    {
     "name": "stdout",
     "output_type": "stream",
     "text": [
      "Harry Potter and the Order of the Phoenix (Book 5)\n"
     ]
    },
    {
     "data": {
      "text/html": [
       "<img src=\"http://images.amazon.com/images/P/0439064872.01.MZZZZZZZ.jpg\"/>"
      ],
      "text/plain": [
       "<IPython.core.display.Image object>"
      ]
     },
     "metadata": {},
     "output_type": "display_data"
    },
    {
     "name": "stdout",
     "output_type": "stream",
     "text": [
      "Harry Potter and the Chamber of Secrets (Book 2)\n"
     ]
    },
    {
     "data": {
      "text/html": [
       "<img src=\"http://images.amazon.com/images/P/0804111359.01.MZZZZZZZ.jpg\"/>"
      ],
      "text/plain": [
       "<IPython.core.display.Image object>"
      ]
     },
     "metadata": {},
     "output_type": "display_data"
    },
    {
     "name": "stdout",
     "output_type": "stream",
     "text": [
      "Secret History\n"
     ]
    },
    {
     "data": {
      "text/html": [
       "<img src=\"http://images.amazon.com/images/P/0451526341.01.MZZZZZZZ.jpg\"/>"
      ],
      "text/plain": [
       "<IPython.core.display.Image object>"
      ]
     },
     "metadata": {},
     "output_type": "display_data"
    },
    {
     "name": "stdout",
     "output_type": "stream",
     "text": [
      "Animal Farm\n"
     ]
    },
    {
     "data": {
      "text/html": [
       "<img src=\"http://images.amazon.com/images/P/0156628708.01.MZZZZZZZ.jpg\"/>"
      ],
      "text/plain": [
       "<IPython.core.display.Image object>"
      ]
     },
     "metadata": {},
     "output_type": "display_data"
    },
    {
     "name": "stdout",
     "output_type": "stream",
     "text": [
      "Mrs Dalloway\n"
     ]
    },
    {
     "data": {
      "text/html": [
       "<img src=\"http://images.amazon.com/images/P/0451524934.01.MZZZZZZZ.jpg\"/>"
      ],
      "text/plain": [
       "<IPython.core.display.Image object>"
      ]
     },
     "metadata": {},
     "output_type": "display_data"
    },
    {
     "name": "stdout",
     "output_type": "stream",
     "text": [
      "1984\n"
     ]
    }
   ],
   "source": [
    "# ratings by Samyak Deshpande (my dear friend)\n",
    "\n",
    "d = {\n",
    "    \"0439139597\": 7,\n",
    "    \"0345391802\": 8,\n",
    "    \"0590353403\": 6,\n",
    "    \"0439064864\": 3,\n",
    "    \"0316769487\": 8,\n",
    "    \"0439136350\": 5,\n",
    "    \"059035342X\": 8,\n",
    "    \"0684801523\": 10,\n",
    "    \"0439136369\": 5,\n",
    "    \"043935806X\": 4,\n",
    "    \"0439064872\": 3,\n",
    "    \"0804111359\": 9,\n",
    "    \"0451526341\": 9,\n",
    "    \"0156628708\": 9,\n",
    "    \"0451524934\": 7\n",
    "}\n",
    "\n",
    "for i in d:\n",
    "    display(Image(url=books[books[\"ISBN\"] == i][\"imageUrlM\"].values[0]))\n",
    "    print(books[books[\"ISBN\"] == i][\"bookTitle\"].values[0])"
   ]
  },
  {
   "cell_type": "code",
   "execution_count": 26,
   "metadata": {},
   "outputs": [
    {
     "data": {
      "text/html": [
       "<img src=\"http://images.amazon.com/images/P/0399501487.01.MZZZZZZZ.jpg\"/>"
      ],
      "text/plain": [
       "<IPython.core.display.Image object>"
      ]
     },
     "metadata": {},
     "output_type": "display_data"
    },
    {
     "name": "stdout",
     "output_type": "stream",
     "text": [
      "Lord of the Flies\n"
     ]
    },
    {
     "data": {
      "text/html": [
       "<img src=\"http://images.amazon.com/images/P/0446310786.01.MZZZZZZZ.jpg\"/>"
      ],
      "text/plain": [
       "<IPython.core.display.Image object>"
      ]
     },
     "metadata": {},
     "output_type": "display_data"
    },
    {
     "name": "stdout",
     "output_type": "stream",
     "text": [
      "To Kill a Mockingbird\n"
     ]
    },
    {
     "data": {
      "text/html": [
       "<img src=\"http://images.amazon.com/images/P/034536676X.01.MZZZZZZZ.jpg\"/>"
      ],
      "text/plain": [
       "<IPython.core.display.Image object>"
      ]
     },
     "metadata": {},
     "output_type": "display_data"
    },
    {
     "name": "stdout",
     "output_type": "stream",
     "text": [
      "The World According to Garp\n"
     ]
    },
    {
     "data": {
      "text/html": [
       "<img src=\"http://images.amazon.com/images/P/014023313X.01.MZZZZZZZ.jpg\"/>"
      ],
      "text/plain": [
       "<IPython.core.display.Image object>"
      ]
     },
     "metadata": {},
     "output_type": "display_data"
    },
    {
     "name": "stdout",
     "output_type": "stream",
     "text": [
      "The Stone Diaries\n"
     ]
    },
    {
     "data": {
      "text/html": [
       "<img src=\"http://images.amazon.com/images/P/055321313X.01.MZZZZZZZ.jpg\"/>"
      ],
      "text/plain": [
       "<IPython.core.display.Image object>"
      ]
     },
     "metadata": {},
     "output_type": "display_data"
    },
    {
     "name": "stdout",
     "output_type": "stream",
     "text": [
      "Anne of Green Gables (Anne of Green Gables Novels (Paperback))\n"
     ]
    },
    {
     "data": {
      "text/html": [
       "<img src=\"http://images.amazon.com/images/P/0684865742.01.MZZZZZZZ.jpg\"/>"
      ],
      "text/plain": [
       "<IPython.core.display.Image object>"
      ]
     },
     "metadata": {},
     "output_type": "display_data"
    },
    {
     "name": "stdout",
     "output_type": "stream",
     "text": [
      "Tis: A Memoir\n"
     ]
    },
    {
     "data": {
      "text/html": [
       "<img src=\"http://images.amazon.com/images/P/0684833395.01.MZZZZZZZ.jpg\"/>"
      ],
      "text/plain": [
       "<IPython.core.display.Image object>"
      ]
     },
     "metadata": {},
     "output_type": "display_data"
    },
    {
     "name": "stdout",
     "output_type": "stream",
     "text": [
      "Catch 22\n"
     ]
    },
    {
     "data": {
      "text/html": [
       "<img src=\"http://images.amazon.com/images/P/0679723161.01.MZZZZZZZ.jpg\"/>"
      ],
      "text/plain": [
       "<IPython.core.display.Image object>"
      ]
     },
     "metadata": {},
     "output_type": "display_data"
    },
    {
     "name": "stdout",
     "output_type": "stream",
     "text": [
      "Lolita (Vintage International)\n"
     ]
    },
    {
     "data": {
      "text/html": [
       "<img src=\"http://images.amazon.com/images/P/0345313860.01.MZZZZZZZ.jpg\"/>"
      ],
      "text/plain": [
       "<IPython.core.display.Image object>"
      ]
     },
     "metadata": {},
     "output_type": "display_data"
    },
    {
     "name": "stdout",
     "output_type": "stream",
     "text": [
      "The Vampire Lestat (Vampire Chronicles, Book II)\n"
     ]
    },
    {
     "data": {
      "text/html": [
       "<img src=\"http://images.amazon.com/images/P/0451160525.01.MZZZZZZZ.jpg\"/>"
      ],
      "text/plain": [
       "<IPython.core.display.Image object>"
      ]
     },
     "metadata": {},
     "output_type": "display_data"
    },
    {
     "name": "stdout",
     "output_type": "stream",
     "text": [
      "The Gunslinger (The Dark Tower, Book 1)\n"
     ]
    }
   ],
   "source": [
    "l = get_recommendations(d)\n",
    "\n",
    "for i in l:\n",
    "    display(Image(url=books[books[\"ISBN\"] == i][\"imageUrlM\"].values[0]))\n",
    "    print(books[books[\"ISBN\"] == i][\"bookTitle\"].values[0])\n",
    "\n",
    "# Samyak was satisfied with the recommendations"
   ]
  },
  {
   "attachments": {},
   "cell_type": "markdown",
   "metadata": {},
   "source": [
    "#### code"
   ]
  },
  {
   "cell_type": "code",
   "execution_count": 27,
   "metadata": {},
   "outputs": [],
   "source": [
    "# make a pickle file in which we store the item_similarity_df\n",
    "\n",
    "import pickle\n",
    "\n",
    "pickle.dump(item_similarity_df, open(\"item_similarity_df.pkl\", \"wb\"))\n",
    "\n",
    "\n"
   ]
  },
  {
   "cell_type": "markdown",
   "metadata": {},
   "source": [
    "### Content Based Recommendations \n",
    "\n",
    "1. Created a numpy array called `main_matrix` with dimensions (50000, 900) to represent ratings for each book across 900 unique genres.\n",
    "\n",
    "2. Populated `main_matrix` by assigning average ratings to the corresponding positions based on the book's genres.\n",
    "\n",
    "3. Defined the `get_recommendations(s)` function to generate book recommendations based on the user's genre preferences.\n",
    "\n",
    "4. Initialized a numpy array called `like` (shape: (900,)) with zeros to represent the user's genre preferences.\n",
    "\n",
    "5. Calculated recommendation scores by performing matrix multiplication between `main_matrix` and `like`.\n",
    "\n",
    "6. Sorted the recommendation scores and obtained the top 5 book recommendations based on the highest scores.\n",
    "\n",
    "7. Printed the titles of the top 5 recommended books from the original dataset.\n"
   ]
  },
  {
   "cell_type": "code",
   "execution_count": null,
   "metadata": {},
   "outputs": [],
   "source": [
    "\n",
    "data = pd.read_csv(\"books_1.Best_Books_Ever.csv\")\n",
    "data\n",
    "df = data[[\"isbn\",\"genres\",\"rating\"]]\n",
    "df[\"genres\"] = df[\"genres\"].apply(eval)\n",
    "df[\"genres\"][0]\n",
    "s = set()\n",
    "for i in df[\"genres\"]:\n",
    "    for j in i:\n",
    "        s.add(j)\n",
    "with open(\"genres_order.txt\", \"w\", encoding=\"utf-8\") as f:\n",
    "    d = defaultdict(int)\n",
    "    j = 0\n",
    "\n",
    "    for i in s:\n",
    "        d[i] = j\n",
    "        f.write(i + \"\\n\")\n",
    "        j += 1\n",
    "    f.close()\n",
    "df\n",
    "main_matrix = np.zeros((52478, 982))\n",
    "for i in range(len(df)):\n",
    "    for j in df[\"genres\"][i]:\n",
    "        main_matrix[i][d[j]] = df[\"rating\"][i]\n",
    "def get_recommendations(s):\n",
    "    like = np.zeros((982,))\n",
    "    for i in s:\n",
    "        like[d[i]] = 1\n",
    "    \n",
    "    ans = np.dot(main_matrix, like)\n",
    "    \n",
    "    l = []\n",
    "    for i in range(len(ans)):\n",
    "        l.append((ans[i], i))\n",
    "    l.sort(reverse=True)\n",
    "\n",
    "    for i in l[:5]:\n",
    "        print(data.loc[i[1], \"title\"])\n",
    "\n",
    "get_recommendations([\"Fiction\", \"Romance\", \"Magic\",\"Vampires\",\"Action\"])\n",
    "with open('genre_matrix.pkl', 'wb') as file:\n",
    "    pickle.dump(main_matrix, file)\n",
    "with open(\"booktitle_chatbot.txt\",\"w\",encoding=\"utf-8\") as file:\n",
    "    for i in data[\"title\"]:\n",
    "        file.write(i + \"\\n\")\n",
    "    \n",
    "    \n"
   ]
  }
 ],
 "metadata": {
  "kernelspec": {
   "display_name": "Python 3",
   "language": "python",
   "name": "python3"
  },
  "language_info": {
   "codemirror_mode": {
    "name": "ipython",
    "version": 3
   },
   "file_extension": ".py",
   "mimetype": "text/x-python",
   "name": "python",
   "nbconvert_exporter": "python",
   "pygments_lexer": "ipython3",
   "version": "3.10.7"
  },
  "orig_nbformat": 4
 },
 "nbformat": 4,
 "nbformat_minor": 2
}
